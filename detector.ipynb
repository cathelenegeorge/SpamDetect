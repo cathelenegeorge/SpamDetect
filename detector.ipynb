{
 "cells": [
  {
   "cell_type": "code",
   "execution_count": 32,
   "metadata": {},
   "outputs": [],
   "source": [
    "import pandas as pd\n",
    "from sklearn.model_selection import train_test_split\n",
    "from sklearn.linear_model import LogisticRegression\n",
    "from sklearn.metrics import confusion_matrix,accuracy_score,precision_score,f1_score\n",
    "import seaborn as sns\n",
    "import matplotlib.pyplot as plt"
   ]
  },
  {
   "cell_type": "code",
   "execution_count": 33,
   "metadata": {},
   "outputs": [],
   "source": [
    "#Load the dataset and divide it into testing and training data\n",
    "df = pd.read_csv(\"spambase.csv\")\n",
    "x = df.drop('spam',axis = 1)\n",
    "y = df['spam']\n",
    "x_train,x_test,y_train,y_test = train_test_split(x,y,test_size = 0.2,random_state = 42)\n"
   ]
  },
  {
   "cell_type": "code",
   "execution_count": 34,
   "metadata": {},
   "outputs": [
    {
     "name": "stdout",
     "output_type": "stream",
     "text": [
      "      word_freq_make  word_freq_address  word_freq_all  word_freq_3d  \\\n",
      "3683            0.00                0.0           0.00           0.0   \n",
      "4412            0.71                0.0           0.71           0.0   \n",
      "2584            0.00                0.0           0.91           0.0   \n",
      "69              0.00                0.0           0.00           0.0   \n",
      "1844            0.00                0.0           0.54           0.0   \n",
      "\n",
      "      word_freq_our  word_freq_over  word_freq_remove  word_freq_internet  \\\n",
      "3683            0.0             0.0               0.0                0.00   \n",
      "4412            0.0             0.0               0.0                0.00   \n",
      "2584            0.0             0.0               0.0                0.45   \n",
      "69              0.0             0.0               0.0                0.00   \n",
      "1844            0.0             0.0               0.0                0.00   \n",
      "\n",
      "      word_freq_order  word_freq_mail  ...  word_freq_conference  char_freq_;  \\\n",
      "3683              0.0            0.00  ...                   0.0          0.0   \n",
      "4412              0.0            0.71  ...                   0.0          0.0   \n",
      "2584              0.0            0.00  ...                   0.0          0.0   \n",
      "69                0.0            0.00  ...                   0.0          0.0   \n",
      "1844              0.0            0.00  ...                   0.0          0.0   \n",
      "\n",
      "      char_freq_(  char_freq_[  char_freq_!  char_freq_$  char_freq_#  \\\n",
      "3683        0.000        0.000          0.0          0.0          0.0   \n",
      "4412        0.000        0.000          0.0          0.0          0.0   \n",
      "2584        0.000        0.000          0.0          0.0          0.0   \n",
      "69          0.201        0.000          0.0          0.1          0.0   \n",
      "1844        0.188        0.047          0.0          0.0          0.0   \n",
      "\n",
      "      capital_run_length_average  capital_run_length_longest  \\\n",
      "3683                       1.000                           1   \n",
      "4412                       1.032                           2   \n",
      "2584                       1.320                           7   \n",
      "69                         4.548                          59   \n",
      "1844                       1.745                          12   \n",
      "\n",
      "      capital_run_length_total  \n",
      "3683                         3  \n",
      "4412                        32  \n",
      "2584                       103  \n",
      "69                         141  \n",
      "1844                        89  \n",
      "\n",
      "[5 rows x 57 columns]\n"
     ]
    },
    {
     "name": "stderr",
     "output_type": "stream",
     "text": [
      "/Users/cathelenegeorge/Desktop/SpamDetect/venv/lib/python3.12/site-packages/sklearn/linear_model/_logistic.py:465: ConvergenceWarning: lbfgs failed to converge (status=1):\n",
      "STOP: TOTAL NO. OF ITERATIONS REACHED LIMIT.\n",
      "\n",
      "Increase the number of iterations (max_iter) or scale the data as shown in:\n",
      "    https://scikit-learn.org/stable/modules/preprocessing.html\n",
      "Please also refer to the documentation for alternative solver options:\n",
      "    https://scikit-learn.org/stable/modules/linear_model.html#logistic-regression\n",
      "  n_iter_i = _check_optimize_result(\n"
     ]
    }
   ],
   "source": [
    "#Create the model and train it and make predictions on x_test\n",
    "model = LogisticRegression()\n",
    "model.fit(x_train,y_train)\n",
    "print(x_test.head(5))\n",
    "y_pred = model.predict(x_test) \n"
   ]
  },
  {
   "cell_type": "code",
   "execution_count": 35,
   "metadata": {},
   "outputs": [
    {
     "name": "stdout",
     "output_type": "stream",
     "text": [
      "Accuracy =  0.9261672095548317\n",
      "Precision =  0.9192708333333334\n",
      "F1 score = 0.9121447028423773\n",
      "Confusion Matrix :  [[500  31]\n",
      " [ 37 353]]\n"
     ]
    }
   ],
   "source": [
    "#Evaluate The model\n",
    "accuracy = accuracy_score(y_test,y_pred)\n",
    "print(\"Accuracy = \",accuracy)\n",
    "precision = precision_score(y_test,y_pred)\n",
    "print(\"Precision = \",precision)\n",
    "f1 = f1_score(y_test,y_pred)\n",
    "print(\"F1 score =\" ,f1)\n",
    "confusion_matrix = confusion_matrix(y_test,y_pred,)\n",
    "print(\"Confusion Matrix : \",confusion_matrix)\n"
   ]
  },
  {
   "cell_type": "code",
   "execution_count": 36,
   "metadata": {},
   "outputs": [
    {
     "data": {
      "image/png": "[encoded data removed]",
      "text/plain": [
       "<Figure size 640x480 with 2 Axes>"
      ]
     },
     "metadata": {},
     "output_type": "display_data"
    }
   ],
   "source": [
    "#Visualise the confusion matrix as a heatmap with the help of seaborn\n",
    "sns.heatmap(confusion_matrix,annot=True,fmt='d')\n",
    "plt.title(\"Visualisation of Confusion Matrix  \")\n",
    "plt.show()\n"
   ]
  },
  {
   "cell_type": "markdown",
   "metadata": {},
   "source": []
  }
 ],
 "metadata": {
  "kernelspec": {
   "display_name": "venv",
   "language": "python",
   "name": "python3"
  },
  "language_info": {
   "codemirror_mode": {
    "name": "ipython",
    "version": 3
   },
   "file_extension": ".py",
   "mimetype": "text/x-python",
   "name": "python",
   "nbconvert_exporter": "python",
   "pygments_lexer": "ipython3",
   "version": "3.12.6"
  }
 },
 "nbformat": 4,
 "nbformat_minor": 2
}
